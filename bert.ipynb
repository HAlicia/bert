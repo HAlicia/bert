{
  "nbformat": 4,
  "nbformat_minor": 0,
  "metadata": {
    "colab": {
      "name": "bert.ipynb",
      "version": "0.3.2",
      "provenance": [],
      "collapsed_sections": []
    },
    "kernelspec": {
      "name": "python3",
      "display_name": "Python 3"
    }
  },
  "cells": [
    {
      "metadata": {
        "id": "Gh6kjJ_getYm",
        "colab_type": "code",
        "colab": {}
      },
      "cell_type": "code",
      "source": [
        "# 下载数据集\n",
        "!wget https://storage.googleapis.com/bert_models/2018_11_03/chinese_L-12_H-768_A-12.zip\n",
        "!unzip chinese_L-12_H-768_A-12.zip"
      ],
      "execution_count": 0,
      "outputs": []
    },
    {
      "metadata": {
        "id": "J2VQmytSiLGu",
        "colab_type": "code",
        "colab": {}
      },
      "cell_type": "code",
      "source": [
        "# 下载代码\n",
        "!git clone https://github.com/huhuhang/bert.git"
      ],
      "execution_count": 0,
      "outputs": []
    },
    {
      "metadata": {
        "id": "Xpb_07Uol6UP",
        "colab_type": "code",
        "colab": {}
      },
      "cell_type": "code",
      "source": [
        "!cd bert&&git pull"
      ],
      "execution_count": 0,
      "outputs": []
    },
    {
      "metadata": {
        "id": "qsWsJEm5iYO9",
        "colab_type": "code",
        "colab": {}
      },
      "cell_type": "code",
      "source": [
        "# 执行\n",
        "!export BERT_BASE_DIR=chinese_L-12_H-768_A-12\n",
        "!export MY_DATASET=bert/dataset\n",
        "\n",
        "!python bert/run_classifier.py \\\n",
        "  --task_name=sim \\\n",
        "  --do_train=true \\\n",
        "  --do_eval=false \\\n",
        "  --do_predict=true \\\n",
        "  --data_dir=bert/dataset \\\n",
        "  --vocab_file=chinese_L-12_H-768_A-12/vocab.txt \\\n",
        "  --bert_config_file=chinese_L-12_H-768_A-12/bert_config.json \\\n",
        "  --init_checkpoint=chinese_L-12_H-768_A-12/bert_model.ckpt \\\n",
        "  --max_seq_length=128 \\\n",
        "  --train_batch_size=32 \\\n",
        "  --learning_rate=5e-5 \\\n",
        "  --num_train_epochs=1.0 \\\n",
        "  --output_dir=bert/dataset/output"
      ],
      "execution_count": 0,
      "outputs": []
    },
    {
      "metadata": {
        "id": "8OPlsH-_inS0",
        "colab_type": "code",
        "colab": {}
      },
      "cell_type": "code",
      "source": [
        ""
      ],
      "execution_count": 0,
      "outputs": []
    }
  ]
}